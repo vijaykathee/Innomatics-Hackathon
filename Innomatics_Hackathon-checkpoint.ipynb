{
 "cells": [
  {
   "cell_type": "code",
   "execution_count": 1,
   "id": "293f8efe",
   "metadata": {},
   "outputs": [],
   "source": [
    "import pandas as pd"
   ]
  },
  {
   "cell_type": "code",
   "execution_count": 2,
   "id": "4ba2e072",
   "metadata": {},
   "outputs": [],
   "source": [
    "df=pd.read_excel(r'C:\\Users\\vijay\\Downloads\\uber_rides_data.xlsx')"
   ]
  },
  {
   "cell_type": "code",
   "execution_count": 3,
   "id": "03692f9c",
   "metadata": {},
   "outputs": [
    {
     "name": "stdout",
     "output_type": "stream",
     "text": [
      "<class 'pandas.core.frame.DataFrame'>\n",
      "RangeIndex: 200000 entries, 0 to 199999\n",
      "Data columns (total 8 columns):\n",
      " #   Column             Non-Null Count   Dtype  \n",
      "---  ------             --------------   -----  \n",
      " 0   ride_id            200000 non-null  int64  \n",
      " 1   fare_amount        200000 non-null  float64\n",
      " 2   pickup_datetime    200000 non-null  object \n",
      " 3   pickup_longitude   200000 non-null  float64\n",
      " 4   pickup_latitude    200000 non-null  float64\n",
      " 5   dropoff_longitude  199999 non-null  float64\n",
      " 6   dropoff_latitude   199999 non-null  float64\n",
      " 7   passenger_count    200000 non-null  int64  \n",
      "dtypes: float64(5), int64(2), object(1)\n",
      "memory usage: 12.2+ MB\n"
     ]
    }
   ],
   "source": [
    "df.info()"
   ]
  },
  {
   "cell_type": "code",
   "execution_count": 4,
   "id": "f43e1ea7",
   "metadata": {},
   "outputs": [
    {
     "data": {
      "text/html": [
       "<div>\n",
       "<style scoped>\n",
       "    .dataframe tbody tr th:only-of-type {\n",
       "        vertical-align: middle;\n",
       "    }\n",
       "\n",
       "    .dataframe tbody tr th {\n",
       "        vertical-align: top;\n",
       "    }\n",
       "\n",
       "    .dataframe thead th {\n",
       "        text-align: right;\n",
       "    }\n",
       "</style>\n",
       "<table border=\"1\" class=\"dataframe\">\n",
       "  <thead>\n",
       "    <tr style=\"text-align: right;\">\n",
       "      <th></th>\n",
       "      <th>ride_id</th>\n",
       "      <th>fare_amount</th>\n",
       "      <th>pickup_longitude</th>\n",
       "      <th>pickup_latitude</th>\n",
       "      <th>dropoff_longitude</th>\n",
       "      <th>dropoff_latitude</th>\n",
       "      <th>passenger_count</th>\n",
       "    </tr>\n",
       "  </thead>\n",
       "  <tbody>\n",
       "    <tr>\n",
       "      <th>count</th>\n",
       "      <td>2.000000e+05</td>\n",
       "      <td>200000.000000</td>\n",
       "      <td>200000.000000</td>\n",
       "      <td>200000.000000</td>\n",
       "      <td>199999.000000</td>\n",
       "      <td>199999.000000</td>\n",
       "      <td>200000.000000</td>\n",
       "    </tr>\n",
       "    <tr>\n",
       "      <th>mean</th>\n",
       "      <td>2.771250e+07</td>\n",
       "      <td>11.359955</td>\n",
       "      <td>-72.527638</td>\n",
       "      <td>39.935885</td>\n",
       "      <td>-72.525292</td>\n",
       "      <td>39.923890</td>\n",
       "      <td>1.684535</td>\n",
       "    </tr>\n",
       "    <tr>\n",
       "      <th>std</th>\n",
       "      <td>1.601382e+07</td>\n",
       "      <td>9.901776</td>\n",
       "      <td>11.437787</td>\n",
       "      <td>7.720539</td>\n",
       "      <td>13.117408</td>\n",
       "      <td>6.794829</td>\n",
       "      <td>1.385997</td>\n",
       "    </tr>\n",
       "    <tr>\n",
       "      <th>min</th>\n",
       "      <td>1.000000e+00</td>\n",
       "      <td>-52.000000</td>\n",
       "      <td>-1340.648410</td>\n",
       "      <td>-74.015515</td>\n",
       "      <td>-3356.666300</td>\n",
       "      <td>-881.985513</td>\n",
       "      <td>0.000000</td>\n",
       "    </tr>\n",
       "    <tr>\n",
       "      <th>25%</th>\n",
       "      <td>1.382535e+07</td>\n",
       "      <td>6.000000</td>\n",
       "      <td>-73.992065</td>\n",
       "      <td>40.734796</td>\n",
       "      <td>-73.991407</td>\n",
       "      <td>40.733823</td>\n",
       "      <td>1.000000</td>\n",
       "    </tr>\n",
       "    <tr>\n",
       "      <th>50%</th>\n",
       "      <td>2.774550e+07</td>\n",
       "      <td>8.500000</td>\n",
       "      <td>-73.981823</td>\n",
       "      <td>40.752592</td>\n",
       "      <td>-73.980093</td>\n",
       "      <td>40.753042</td>\n",
       "      <td>1.000000</td>\n",
       "    </tr>\n",
       "    <tr>\n",
       "      <th>75%</th>\n",
       "      <td>4.155530e+07</td>\n",
       "      <td>12.500000</td>\n",
       "      <td>-73.967153</td>\n",
       "      <td>40.767158</td>\n",
       "      <td>-73.963658</td>\n",
       "      <td>40.768001</td>\n",
       "      <td>2.000000</td>\n",
       "    </tr>\n",
       "    <tr>\n",
       "      <th>max</th>\n",
       "      <td>5.542357e+07</td>\n",
       "      <td>499.000000</td>\n",
       "      <td>57.418457</td>\n",
       "      <td>1644.421482</td>\n",
       "      <td>1153.572603</td>\n",
       "      <td>872.697628</td>\n",
       "      <td>208.000000</td>\n",
       "    </tr>\n",
       "  </tbody>\n",
       "</table>\n",
       "</div>"
      ],
      "text/plain": [
       "            ride_id    fare_amount  pickup_longitude  pickup_latitude  \\\n",
       "count  2.000000e+05  200000.000000     200000.000000    200000.000000   \n",
       "mean   2.771250e+07      11.359955        -72.527638        39.935885   \n",
       "std    1.601382e+07       9.901776         11.437787         7.720539   \n",
       "min    1.000000e+00     -52.000000      -1340.648410       -74.015515   \n",
       "25%    1.382535e+07       6.000000        -73.992065        40.734796   \n",
       "50%    2.774550e+07       8.500000        -73.981823        40.752592   \n",
       "75%    4.155530e+07      12.500000        -73.967153        40.767158   \n",
       "max    5.542357e+07     499.000000         57.418457      1644.421482   \n",
       "\n",
       "       dropoff_longitude  dropoff_latitude  passenger_count  \n",
       "count      199999.000000     199999.000000    200000.000000  \n",
       "mean          -72.525292         39.923890         1.684535  \n",
       "std            13.117408          6.794829         1.385997  \n",
       "min         -3356.666300       -881.985513         0.000000  \n",
       "25%           -73.991407         40.733823         1.000000  \n",
       "50%           -73.980093         40.753042         1.000000  \n",
       "75%           -73.963658         40.768001         2.000000  \n",
       "max          1153.572603        872.697628       208.000000  "
      ]
     },
     "execution_count": 4,
     "metadata": {},
     "output_type": "execute_result"
    }
   ],
   "source": [
    "df.describe()"
   ]
  },
  {
   "cell_type": "code",
   "execution_count": 13,
   "id": "32e65206",
   "metadata": {},
   "outputs": [
    {
     "data": {
      "text/plain": [
       "12.060913921360267"
      ]
     },
     "execution_count": 13,
     "metadata": {},
     "output_type": "execute_result"
    }
   ],
   "source": [
    "df[df['dropoff_longitude']==0 ]['fare_amount'].mean()"
   ]
  },
  {
   "cell_type": "code",
   "execution_count": 18,
   "id": "a9ab5e0d",
   "metadata": {},
   "outputs": [
    {
     "data": {
      "text/html": [
       "<div>\n",
       "<style scoped>\n",
       "    .dataframe tbody tr th:only-of-type {\n",
       "        vertical-align: middle;\n",
       "    }\n",
       "\n",
       "    .dataframe tbody tr th {\n",
       "        vertical-align: top;\n",
       "    }\n",
       "\n",
       "    .dataframe thead th {\n",
       "        text-align: right;\n",
       "    }\n",
       "</style>\n",
       "<table border=\"1\" class=\"dataframe\">\n",
       "  <thead>\n",
       "    <tr style=\"text-align: right;\">\n",
       "      <th></th>\n",
       "      <th>ride_id</th>\n",
       "      <th>fare_amount</th>\n",
       "      <th>pickup_datetime</th>\n",
       "      <th>pickup_longitude</th>\n",
       "      <th>pickup_latitude</th>\n",
       "      <th>dropoff_longitude</th>\n",
       "      <th>dropoff_latitude</th>\n",
       "      <th>passenger_count</th>\n",
       "    </tr>\n",
       "  </thead>\n",
       "  <tbody>\n",
       "  </tbody>\n",
       "</table>\n",
       "</div>"
      ],
      "text/plain": [
       "Empty DataFrame\n",
       "Columns: [ride_id, fare_amount, pickup_datetime, pickup_longitude, pickup_latitude, dropoff_longitude, dropoff_latitude, passenger_count]\n",
       "Index: []"
      ]
     },
     "execution_count": 18,
     "metadata": {},
     "output_type": "execute_result"
    }
   ],
   "source": [
    "df[df['pickup_datetime']==2014]"
   ]
  },
  {
   "cell_type": "code",
   "execution_count": 17,
   "id": "288ea67e",
   "metadata": {},
   "outputs": [],
   "source": [
    "df['pickup_datetime'] = pd.to_datetime(df['pickup_datetime'])"
   ]
  },
  {
   "cell_type": "code",
   "execution_count": 19,
   "id": "f6651a54",
   "metadata": {},
   "outputs": [
    {
     "data": {
      "text/plain": [
       "0        2015-05-07 19:52:06+00:00\n",
       "1        2009-07-17 20:04:56+00:00\n",
       "2        2009-08-24 21:45:00+00:00\n",
       "3        2009-06-26 08:22:21+00:00\n",
       "4        2014-08-28 17:47:00+00:00\n",
       "                    ...           \n",
       "199995   2012-10-28 10:49:00+00:00\n",
       "199996   2014-03-14 01:09:00+00:00\n",
       "199997   2009-06-29 00:42:00+00:00\n",
       "199998   2015-05-20 14:56:25+00:00\n",
       "199999   2010-05-15 04:08:00+00:00\n",
       "Name: pickup_datetime, Length: 200000, dtype: datetime64[ns, UTC]"
      ]
     },
     "execution_count": 19,
     "metadata": {},
     "output_type": "execute_result"
    }
   ],
   "source": [
    "df['pickup_datetime']"
   ]
  },
  {
   "cell_type": "code",
   "execution_count": 20,
   "id": "12ee5fec",
   "metadata": {},
   "outputs": [],
   "source": [
    "rides_2014 = df[df['pickup_datetime'].dt.year == 2014]\n",
    "\n",
    "# Count the number of rides in 2014\n",
    "num_rides_2014 = len(rides_2014)"
   ]
  },
  {
   "cell_type": "code",
   "execution_count": 21,
   "id": "f1efed4f",
   "metadata": {},
   "outputs": [
    {
     "data": {
      "text/plain": [
       "29968"
      ]
     },
     "execution_count": 21,
     "metadata": {},
     "output_type": "execute_result"
    }
   ],
   "source": [
    "num_rides_2014 "
   ]
  },
  {
   "cell_type": "code",
   "execution_count": 22,
   "id": "64d0a4a6",
   "metadata": {},
   "outputs": [
    {
     "name": "stdout",
     "output_type": "stream",
     "text": [
      "Number of rides recorded in the first quarter of 2014: 7687\n"
     ]
    }
   ],
   "source": [
    "\n",
    "# Filter the DataFrame to include only rides in the first quarter of 2014\n",
    "rides_first_quarter_2014 = df[(df['pickup_datetime'].dt.year == 2014) & (df['pickup_datetime'].dt.quarter == 1)]\n",
    "\n",
    "# Count the number of rides in the first quarter of 2014\n",
    "num_rides_first_quarter_2014 = len(rides_first_quarter_2014)\n",
    "\n",
    "print(\"Number of rides recorded in the first quarter of 2014:\", num_rides_first_quarter_2014)"
   ]
  },
  {
   "cell_type": "code",
   "execution_count": 23,
   "id": "b13b3a4f",
   "metadata": {},
   "outputs": [],
   "source": [
    "rides_september_2010 = df[(df['pickup_datetime'].dt.year == 2010) & (df['pickup_datetime'].dt.month == 9)]\n",
    "\n",
    "# Group the rides by day of the week and count them\n",
    "day_of_week_counts = rides_september_2010['pickup_datetime'].dt.day_name().value_counts()\n",
    "\n",
    "# Find the day of the week with the maximum rides\n",
    "max_rides_day = day_of_week_counts.idxmax()\n",
    "max_rides_count = day_of_week_counts.max()"
   ]
  },
  {
   "cell_type": "code",
   "execution_count": 24,
   "id": "c3762522",
   "metadata": {},
   "outputs": [
    {
     "data": {
      "text/plain": [
       "457"
      ]
     },
     "execution_count": 24,
     "metadata": {},
     "output_type": "execute_result"
    }
   ],
   "source": [
    "max_rides_count"
   ]
  },
  {
   "cell_type": "code",
   "execution_count": 25,
   "id": "fff98474",
   "metadata": {},
   "outputs": [
    {
     "data": {
      "text/plain": [
       "'Thursday'"
      ]
     },
     "execution_count": 25,
     "metadata": {},
     "output_type": "execute_result"
    }
   ],
   "source": [
    "max_rides_day"
   ]
  },
  {
   "cell_type": "code",
   "execution_count": 26,
   "id": "3b12acd5",
   "metadata": {},
   "outputs": [
    {
     "name": "stdout",
     "output_type": "stream",
     "text": [
      "The median Haversine distance between pickup and dropoff locations is 2.12 kilometers.\n"
     ]
    }
   ],
   "source": [
    "import pandas as pd\n",
    "import numpy as np\n",
    "\n",
    "# Define the Haversine formula for distance calculation\n",
    "def haversine(lat1, lon1, lat2, lon2):\n",
    "    # Radius of the Earth in kilometers\n",
    "    R = 6371.0\n",
    "\n",
    "    # Convert latitude and longitude from degrees to radians\n",
    "    lat1 = np.radians(lat1)\n",
    "    lon1 = np.radians(lon1)\n",
    "    lat2 = np.radians(lat2)\n",
    "    lon2 = np.radians(lon2)\n",
    "\n",
    "    # Differences in latitude and longitude\n",
    "    dlat = lat2 - lat1\n",
    "    dlon = lon2 - lon1\n",
    "\n",
    "    # Haversine formula\n",
    "    a = np.sin(dlat / 2)**2 + np.cos(lat1) * np.cos(lat2) * np.sin(dlon / 2)**2\n",
    "    c = 2 * np.arctan2(np.sqrt(a), np.sqrt(1 - a))\n",
    "\n",
    "    # Calculate the distance\n",
    "    distance = R * c\n",
    "    return distance\n",
    "\n",
    "# Assuming df is your DataFrame with columns: pickup_longitude, pickup_latitude, dropoff_longitude, dropoff_latitude\n",
    "# Create a new column 'haversine_distance' with the calculated distances\n",
    "df['haversine_distance'] = df.apply(lambda row: haversine(row['pickup_latitude'], row['pickup_longitude'], row['dropoff_latitude'], row['dropoff_longitude']), axis=1)\n",
    "\n",
    "# Calculate the median haversine distance\n",
    "median_haversine_distance = df['haversine_distance'].median()\n",
    "\n",
    "print(f\"The median Haversine distance between pickup and dropoff locations is {median_haversine_distance:.2f} kilometers.\")\n",
    "\n"
   ]
  },
  {
   "cell_type": "code",
   "execution_count": 27,
   "id": "bdd0ffa8",
   "metadata": {},
   "outputs": [
    {
     "name": "stdout",
     "output_type": "stream",
     "text": [
      "The maximum Haversine distance between pickup and dropoff locations is 16409.24 kilometers.\n"
     ]
    }
   ],
   "source": [
    "max_haversine_distance = df['haversine_distance'].max()\n",
    "\n",
    "print(f\"The maximum Haversine distance between pickup and dropoff locations is {max_haversine_distance:.2f} kilometers.\")"
   ]
  },
  {
   "cell_type": "code",
   "execution_count": 28,
   "id": "b53f9779",
   "metadata": {},
   "outputs": [
    {
     "name": "stdout",
     "output_type": "stream",
     "text": [
      "The number of rides with 0.0 Haversine distance between pickup and dropoff locations is 5632.\n"
     ]
    }
   ],
   "source": [
    "# Assuming df is your DataFrame with the 'haversine_distance' column calculated as in the previous response\n",
    "\n",
    "# Filter the DataFrame to include only rides with 0.0 Haversine distance\n",
    "zero_distance_rides = df[df['haversine_distance'] == 0.0]\n",
    "\n",
    "# Count the number of rides with 0.0 Haversine distance\n",
    "num_zero_distance_rides = len(zero_distance_rides)\n",
    "\n",
    "print(f\"The number of rides with 0.0 Haversine distance between pickup and dropoff locations is {num_zero_distance_rides}.\")\n"
   ]
  },
  {
   "cell_type": "code",
   "execution_count": 29,
   "id": "9b9e23d9",
   "metadata": {},
   "outputs": [
    {
     "name": "stdout",
     "output_type": "stream",
     "text": [
      "The mean 'fare_amount' for rides with 0.0 Haversine distance is 11.59.\n"
     ]
    }
   ],
   "source": [
    "# Assuming df is your DataFrame with the 'haversine_distance' and 'fare_amount' columns\n",
    "\n",
    "# Filter the DataFrame to include only rides with 0.0 Haversine distance\n",
    "zero_distance_rides = df[df['haversine_distance'] == 0.0]\n",
    "\n",
    "# Calculate the mean 'fare_amount' for rides with 0.0 Haversine distance\n",
    "mean_fare_amount_zero_distance = zero_distance_rides['fare_amount'].mean()\n",
    "\n",
    "print(f\"The mean 'fare_amount' for rides with 0.0 Haversine distance is {mean_fare_amount_zero_distance:.2f}.\")\n"
   ]
  },
  {
   "cell_type": "code",
   "execution_count": 30,
   "id": "a033f673",
   "metadata": {},
   "outputs": [
    {
     "name": "stdout",
     "output_type": "stream",
     "text": [
      "The Haversine distance between pickup and dropoff locations for the costliest ride is 0.00 kilometers.\n"
     ]
    }
   ],
   "source": [
    "# Assuming df is your DataFrame with the 'haversine_distance', 'fare_amount', 'pickup_latitude', 'pickup_longitude', 'dropoff_latitude', and 'dropoff_longitude' columns\n",
    "\n",
    "# Find the ride with the highest 'fare_amount'\n",
    "costliest_ride = df[df['fare_amount'] == df['fare_amount'].max()]\n",
    "\n",
    "# Calculate the Haversine distance for the costliest ride\n",
    "haversine_distance_costliest_ride = haversine(costliest_ride['pickup_latitude'].values[0],\n",
    "                                               costliest_ride['pickup_longitude'].values[0],\n",
    "                                               costliest_ride['dropoff_latitude'].values[0],\n",
    "                                               costliest_ride['dropoff_longitude'].values[0])\n",
    "\n",
    "print(f\"The Haversine distance between pickup and dropoff locations for the costliest ride is {haversine_distance_costliest_ride:.2f} kilometers.\")\n",
    "\n"
   ]
  },
  {
   "cell_type": "code",
   "execution_count": 32,
   "id": "15819c6b",
   "metadata": {},
   "outputs": [],
   "source": [
    "import pandas as pd\n",
    "import numpy as np\n",
    "\n",
    "# Define the Haversine formula for distance calculation\n",
    "def haversine(lat1, lon1, lat2, lon2):\n",
    "    # Radius of the Earth in kilometers\n",
    "    R = 6371.0\n",
    "\n",
    "    # Convert latitude and longitude from degrees to radians\n",
    "    lat1 = np.radians(lat1)\n",
    "    lon1 = np.radians(lon1)\n",
    "    lat2 = np.radians(lat2)\n",
    "    lon2 = np.radians(lon2)\n",
    "\n",
    "    # Differences in latitude and longitude\n",
    "    dlat = lat2 - lat1\n",
    "    dlon = lon2 - lon1\n",
    "\n",
    "    # Haversine formula\n",
    "    a = np.sin(dlat / 2)**2 + np.cos(lat1) * np.cos(lat2) * np.sin(dlon / 2)**2\n",
    "    c = 2 * np.arctan2(np.sqrt(a), np.sqrt(1 - a))\n",
    "\n",
    "    # Calculate the distance\n",
    "    distance = R * c\n",
    "    return distance\n",
    "\n",
    "# Assuming df is your DataFrame with columns: pickup_latitude, pickup_longitude, dropoff_latitude, and dropoff_longitude\n",
    "# Create a new column 'distance' with the calculated distances\n",
    "df['distance'] = df.apply(lambda row: haversine(row['pickup_latitude'], row['pickup_longitude'], row['dropoff_latitude'], row['dropoff_longitude']), axis=1)\n",
    "\n",
    "# Now, the 'distance' column contains the calculated distances for each row\n"
   ]
  },
  {
   "cell_type": "code",
   "execution_count": 35,
   "id": "65e5581d",
   "metadata": {},
   "outputs": [],
   "source": [
    "df['pickup_datetime'] = pd.to_datetime(df['pickup_datetime'])\n",
    "\n",
    "# Create a new column 'ride_week_day' to store the day of the week for each row\n",
    "df['ride_week_day'] = df['pickup_datetime'].dt.day_name()"
   ]
  },
  {
   "cell_type": "code",
   "execution_count": 46,
   "id": "27cac8ea",
   "metadata": {},
   "outputs": [],
   "source": [
    "merged_df = df.join(df2)"
   ]
  },
  {
   "cell_type": "code",
   "execution_count": 38,
   "id": "ead2b310",
   "metadata": {},
   "outputs": [],
   "source": [
    "df2=pd.get_dummies(df['ride_week_day'])"
   ]
  },
  {
   "cell_type": "code",
   "execution_count": 48,
   "id": "980be598",
   "metadata": {},
   "outputs": [
    {
     "data": {
      "text/html": [
       "<div>\n",
       "<style scoped>\n",
       "    .dataframe tbody tr th:only-of-type {\n",
       "        vertical-align: middle;\n",
       "    }\n",
       "\n",
       "    .dataframe tbody tr th {\n",
       "        vertical-align: top;\n",
       "    }\n",
       "\n",
       "    .dataframe thead th {\n",
       "        text-align: right;\n",
       "    }\n",
       "</style>\n",
       "<table border=\"1\" class=\"dataframe\">\n",
       "  <thead>\n",
       "    <tr style=\"text-align: right;\">\n",
       "      <th></th>\n",
       "      <th>ride_id</th>\n",
       "      <th>fare_amount</th>\n",
       "      <th>pickup_datetime</th>\n",
       "      <th>pickup_longitude</th>\n",
       "      <th>pickup_latitude</th>\n",
       "      <th>dropoff_longitude</th>\n",
       "      <th>dropoff_latitude</th>\n",
       "      <th>passenger_count</th>\n",
       "      <th>haversine_distance</th>\n",
       "      <th>distance</th>\n",
       "      <th>ride_week_day</th>\n",
       "      <th>Friday</th>\n",
       "      <th>Monday</th>\n",
       "      <th>Saturday</th>\n",
       "      <th>Sunday</th>\n",
       "      <th>Thursday</th>\n",
       "      <th>Tuesday</th>\n",
       "      <th>Wednesday</th>\n",
       "    </tr>\n",
       "  </thead>\n",
       "  <tbody>\n",
       "    <tr>\n",
       "      <th>0</th>\n",
       "      <td>24238194</td>\n",
       "      <td>7.5</td>\n",
       "      <td>2015-05-07 19:52:06+00:00</td>\n",
       "      <td>-73.999817</td>\n",
       "      <td>40.738354</td>\n",
       "      <td>-73.999512</td>\n",
       "      <td>40.723217</td>\n",
       "      <td>1</td>\n",
       "      <td>1.683323</td>\n",
       "      <td>1.683323</td>\n",
       "      <td>Thursday</td>\n",
       "      <td>0</td>\n",
       "      <td>0</td>\n",
       "      <td>0</td>\n",
       "      <td>0</td>\n",
       "      <td>1</td>\n",
       "      <td>0</td>\n",
       "      <td>0</td>\n",
       "    </tr>\n",
       "    <tr>\n",
       "      <th>1</th>\n",
       "      <td>27835199</td>\n",
       "      <td>7.7</td>\n",
       "      <td>2009-07-17 20:04:56+00:00</td>\n",
       "      <td>-73.994355</td>\n",
       "      <td>40.728225</td>\n",
       "      <td>-73.994710</td>\n",
       "      <td>40.750325</td>\n",
       "      <td>1</td>\n",
       "      <td>2.457590</td>\n",
       "      <td>2.457590</td>\n",
       "      <td>Friday</td>\n",
       "      <td>1</td>\n",
       "      <td>0</td>\n",
       "      <td>0</td>\n",
       "      <td>0</td>\n",
       "      <td>0</td>\n",
       "      <td>0</td>\n",
       "      <td>0</td>\n",
       "    </tr>\n",
       "    <tr>\n",
       "      <th>2</th>\n",
       "      <td>44984355</td>\n",
       "      <td>12.9</td>\n",
       "      <td>2009-08-24 21:45:00+00:00</td>\n",
       "      <td>-74.005043</td>\n",
       "      <td>40.740770</td>\n",
       "      <td>-73.962565</td>\n",
       "      <td>40.772647</td>\n",
       "      <td>1</td>\n",
       "      <td>5.036377</td>\n",
       "      <td>5.036377</td>\n",
       "      <td>Monday</td>\n",
       "      <td>0</td>\n",
       "      <td>1</td>\n",
       "      <td>0</td>\n",
       "      <td>0</td>\n",
       "      <td>0</td>\n",
       "      <td>0</td>\n",
       "      <td>0</td>\n",
       "    </tr>\n",
       "    <tr>\n",
       "      <th>3</th>\n",
       "      <td>25894730</td>\n",
       "      <td>5.3</td>\n",
       "      <td>2009-06-26 08:22:21+00:00</td>\n",
       "      <td>-73.976124</td>\n",
       "      <td>40.790844</td>\n",
       "      <td>-73.965316</td>\n",
       "      <td>40.803349</td>\n",
       "      <td>3</td>\n",
       "      <td>1.661683</td>\n",
       "      <td>1.661683</td>\n",
       "      <td>Friday</td>\n",
       "      <td>1</td>\n",
       "      <td>0</td>\n",
       "      <td>0</td>\n",
       "      <td>0</td>\n",
       "      <td>0</td>\n",
       "      <td>0</td>\n",
       "      <td>0</td>\n",
       "    </tr>\n",
       "    <tr>\n",
       "      <th>4</th>\n",
       "      <td>17610152</td>\n",
       "      <td>16.0</td>\n",
       "      <td>2014-08-28 17:47:00+00:00</td>\n",
       "      <td>-73.925023</td>\n",
       "      <td>40.744085</td>\n",
       "      <td>-73.973082</td>\n",
       "      <td>40.761247</td>\n",
       "      <td>5</td>\n",
       "      <td>4.475450</td>\n",
       "      <td>4.475450</td>\n",
       "      <td>Thursday</td>\n",
       "      <td>0</td>\n",
       "      <td>0</td>\n",
       "      <td>0</td>\n",
       "      <td>0</td>\n",
       "      <td>1</td>\n",
       "      <td>0</td>\n",
       "      <td>0</td>\n",
       "    </tr>\n",
       "    <tr>\n",
       "      <th>...</th>\n",
       "      <td>...</td>\n",
       "      <td>...</td>\n",
       "      <td>...</td>\n",
       "      <td>...</td>\n",
       "      <td>...</td>\n",
       "      <td>...</td>\n",
       "      <td>...</td>\n",
       "      <td>...</td>\n",
       "      <td>...</td>\n",
       "      <td>...</td>\n",
       "      <td>...</td>\n",
       "      <td>...</td>\n",
       "      <td>...</td>\n",
       "      <td>...</td>\n",
       "      <td>...</td>\n",
       "      <td>...</td>\n",
       "      <td>...</td>\n",
       "      <td>...</td>\n",
       "    </tr>\n",
       "    <tr>\n",
       "      <th>199995</th>\n",
       "      <td>42598914</td>\n",
       "      <td>3.0</td>\n",
       "      <td>2012-10-28 10:49:00+00:00</td>\n",
       "      <td>-73.987042</td>\n",
       "      <td>40.739367</td>\n",
       "      <td>-73.986525</td>\n",
       "      <td>40.740297</td>\n",
       "      <td>1</td>\n",
       "      <td>0.112210</td>\n",
       "      <td>0.112210</td>\n",
       "      <td>Sunday</td>\n",
       "      <td>0</td>\n",
       "      <td>0</td>\n",
       "      <td>0</td>\n",
       "      <td>1</td>\n",
       "      <td>0</td>\n",
       "      <td>0</td>\n",
       "      <td>0</td>\n",
       "    </tr>\n",
       "    <tr>\n",
       "      <th>199996</th>\n",
       "      <td>16382965</td>\n",
       "      <td>7.5</td>\n",
       "      <td>2014-03-14 01:09:00+00:00</td>\n",
       "      <td>-73.984722</td>\n",
       "      <td>40.736837</td>\n",
       "      <td>-74.006672</td>\n",
       "      <td>40.739620</td>\n",
       "      <td>1</td>\n",
       "      <td>1.875050</td>\n",
       "      <td>1.875050</td>\n",
       "      <td>Friday</td>\n",
       "      <td>1</td>\n",
       "      <td>0</td>\n",
       "      <td>0</td>\n",
       "      <td>0</td>\n",
       "      <td>0</td>\n",
       "      <td>0</td>\n",
       "      <td>0</td>\n",
       "    </tr>\n",
       "    <tr>\n",
       "      <th>199997</th>\n",
       "      <td>27804658</td>\n",
       "      <td>30.9</td>\n",
       "      <td>2009-06-29 00:42:00+00:00</td>\n",
       "      <td>-73.986017</td>\n",
       "      <td>40.756487</td>\n",
       "      <td>-73.858957</td>\n",
       "      <td>40.692588</td>\n",
       "      <td>2</td>\n",
       "      <td>12.850319</td>\n",
       "      <td>12.850319</td>\n",
       "      <td>Monday</td>\n",
       "      <td>0</td>\n",
       "      <td>1</td>\n",
       "      <td>0</td>\n",
       "      <td>0</td>\n",
       "      <td>0</td>\n",
       "      <td>0</td>\n",
       "      <td>0</td>\n",
       "    </tr>\n",
       "    <tr>\n",
       "      <th>199998</th>\n",
       "      <td>20259894</td>\n",
       "      <td>14.5</td>\n",
       "      <td>2015-05-20 14:56:25+00:00</td>\n",
       "      <td>-73.997124</td>\n",
       "      <td>40.725452</td>\n",
       "      <td>-73.983215</td>\n",
       "      <td>40.695415</td>\n",
       "      <td>1</td>\n",
       "      <td>3.539715</td>\n",
       "      <td>3.539715</td>\n",
       "      <td>Wednesday</td>\n",
       "      <td>0</td>\n",
       "      <td>0</td>\n",
       "      <td>0</td>\n",
       "      <td>0</td>\n",
       "      <td>0</td>\n",
       "      <td>0</td>\n",
       "      <td>1</td>\n",
       "    </tr>\n",
       "    <tr>\n",
       "      <th>199999</th>\n",
       "      <td>11951496</td>\n",
       "      <td>14.1</td>\n",
       "      <td>2010-05-15 04:08:00+00:00</td>\n",
       "      <td>-73.984395</td>\n",
       "      <td>40.720077</td>\n",
       "      <td>-73.985508</td>\n",
       "      <td>40.768793</td>\n",
       "      <td>1</td>\n",
       "      <td>5.417783</td>\n",
       "      <td>5.417783</td>\n",
       "      <td>Saturday</td>\n",
       "      <td>0</td>\n",
       "      <td>0</td>\n",
       "      <td>1</td>\n",
       "      <td>0</td>\n",
       "      <td>0</td>\n",
       "      <td>0</td>\n",
       "      <td>0</td>\n",
       "    </tr>\n",
       "  </tbody>\n",
       "</table>\n",
       "<p>200000 rows × 18 columns</p>\n",
       "</div>"
      ],
      "text/plain": [
       "         ride_id  fare_amount           pickup_datetime  pickup_longitude  \\\n",
       "0       24238194          7.5 2015-05-07 19:52:06+00:00        -73.999817   \n",
       "1       27835199          7.7 2009-07-17 20:04:56+00:00        -73.994355   \n",
       "2       44984355         12.9 2009-08-24 21:45:00+00:00        -74.005043   \n",
       "3       25894730          5.3 2009-06-26 08:22:21+00:00        -73.976124   \n",
       "4       17610152         16.0 2014-08-28 17:47:00+00:00        -73.925023   \n",
       "...          ...          ...                       ...               ...   \n",
       "199995  42598914          3.0 2012-10-28 10:49:00+00:00        -73.987042   \n",
       "199996  16382965          7.5 2014-03-14 01:09:00+00:00        -73.984722   \n",
       "199997  27804658         30.9 2009-06-29 00:42:00+00:00        -73.986017   \n",
       "199998  20259894         14.5 2015-05-20 14:56:25+00:00        -73.997124   \n",
       "199999  11951496         14.1 2010-05-15 04:08:00+00:00        -73.984395   \n",
       "\n",
       "        pickup_latitude  dropoff_longitude  dropoff_latitude  passenger_count  \\\n",
       "0             40.738354         -73.999512         40.723217                1   \n",
       "1             40.728225         -73.994710         40.750325                1   \n",
       "2             40.740770         -73.962565         40.772647                1   \n",
       "3             40.790844         -73.965316         40.803349                3   \n",
       "4             40.744085         -73.973082         40.761247                5   \n",
       "...                 ...                ...               ...              ...   \n",
       "199995        40.739367         -73.986525         40.740297                1   \n",
       "199996        40.736837         -74.006672         40.739620                1   \n",
       "199997        40.756487         -73.858957         40.692588                2   \n",
       "199998        40.725452         -73.983215         40.695415                1   \n",
       "199999        40.720077         -73.985508         40.768793                1   \n",
       "\n",
       "        haversine_distance   distance ride_week_day  Friday  Monday  Saturday  \\\n",
       "0                 1.683323   1.683323      Thursday       0       0         0   \n",
       "1                 2.457590   2.457590        Friday       1       0         0   \n",
       "2                 5.036377   5.036377        Monday       0       1         0   \n",
       "3                 1.661683   1.661683        Friday       1       0         0   \n",
       "4                 4.475450   4.475450      Thursday       0       0         0   \n",
       "...                    ...        ...           ...     ...     ...       ...   \n",
       "199995            0.112210   0.112210        Sunday       0       0         0   \n",
       "199996            1.875050   1.875050        Friday       1       0         0   \n",
       "199997           12.850319  12.850319        Monday       0       1         0   \n",
       "199998            3.539715   3.539715     Wednesday       0       0         0   \n",
       "199999            5.417783   5.417783      Saturday       0       0         1   \n",
       "\n",
       "        Sunday  Thursday  Tuesday  Wednesday  \n",
       "0            0         1        0          0  \n",
       "1            0         0        0          0  \n",
       "2            0         0        0          0  \n",
       "3            0         0        0          0  \n",
       "4            0         1        0          0  \n",
       "...        ...       ...      ...        ...  \n",
       "199995       1         0        0          0  \n",
       "199996       0         0        0          0  \n",
       "199997       0         0        0          0  \n",
       "199998       0         0        0          1  \n",
       "199999       0         0        0          0  \n",
       "\n",
       "[200000 rows x 18 columns]"
      ]
     },
     "execution_count": 48,
     "metadata": {},
     "output_type": "execute_result"
    }
   ],
   "source": [
    "merged_df"
   ]
  },
  {
   "cell_type": "code",
   "execution_count": 43,
   "id": "c386ad7b",
   "metadata": {},
   "outputs": [],
   "source": [
    "# Assuming df is your DataFrame with a 'pickup_datetime' column\n",
    "df['pickup_datetime'] = pd.to_datetime(df['pickup_datetime'])\n",
    "\n",
    "# Extract the day of the week and create a new column 'ride_week_day'\n",
    "df['ride_week_day'] = df['pickup_datetime'].dt.day_name()"
   ]
  },
  {
   "cell_type": "code",
   "execution_count": 52,
   "id": "5ae36c98",
   "metadata": {},
   "outputs": [],
   "source": [
    "merged_df.dropna(inplace=True)"
   ]
  },
  {
   "cell_type": "code",
   "execution_count": 53,
   "id": "26629f92",
   "metadata": {},
   "outputs": [
    {
     "name": "stdout",
     "output_type": "stream",
     "text": [
      "<class 'pandas.core.frame.DataFrame'>\n",
      "Int64Index: 199999 entries, 0 to 199999\n",
      "Data columns (total 18 columns):\n",
      " #   Column              Non-Null Count   Dtype              \n",
      "---  ------              --------------   -----              \n",
      " 0   ride_id             199999 non-null  int64              \n",
      " 1   fare_amount         199999 non-null  float64            \n",
      " 2   pickup_datetime     199999 non-null  datetime64[ns, UTC]\n",
      " 3   pickup_longitude    199999 non-null  float64            \n",
      " 4   pickup_latitude     199999 non-null  float64            \n",
      " 5   dropoff_longitude   199999 non-null  float64            \n",
      " 6   dropoff_latitude    199999 non-null  float64            \n",
      " 7   passenger_count     199999 non-null  int64              \n",
      " 8   haversine_distance  199999 non-null  float64            \n",
      " 9   distance            199999 non-null  float64            \n",
      " 10  ride_week_day       199999 non-null  object             \n",
      " 11  Friday              199999 non-null  uint8              \n",
      " 12  Monday              199999 non-null  uint8              \n",
      " 13  Saturday            199999 non-null  uint8              \n",
      " 14  Sunday              199999 non-null  uint8              \n",
      " 15  Thursday            199999 non-null  uint8              \n",
      " 16  Tuesday             199999 non-null  uint8              \n",
      " 17  Wednesday           199999 non-null  uint8              \n",
      "dtypes: datetime64[ns, UTC](1), float64(7), int64(2), object(1), uint8(7)\n",
      "memory usage: 19.6+ MB\n"
     ]
    }
   ],
   "source": [
    "merged_df.info()"
   ]
  },
  {
   "cell_type": "code",
   "execution_count": 54,
   "id": "c6b97df4",
   "metadata": {},
   "outputs": [
    {
     "name": "stdout",
     "output_type": "stream",
     "text": [
      "The algorithm with the least adjusted R-squared is Linear Regression with an adjusted R-squared of 0.0006.\n"
     ]
    }
   ],
   "source": [
    "import pandas as pd\n",
    "from sklearn.model_selection import train_test_split\n",
    "from sklearn.linear_model import LinearRegression\n",
    "from sklearn.tree import DecisionTreeRegressor\n",
    "from sklearn.ensemble import RandomForestRegressor\n",
    "from sklearn.metrics import r2_score\n",
    "\n",
    "# Assuming df is your DataFrame with columns: passenger_count, distance, ride_week_day, fare_amount\n",
    "\n",
    "# Select the features and target variable\n",
    "X = merged_df[['passenger_count', 'distance', 'Friday','Monday','Saturday','Sunday','Thursday','Tuesday','Wednesday']]\n",
    "y = merged_df['fare_amount']\n",
    "\n",
    "# Split the data into a training set (70%) and a testing set (30%)\n",
    "X_train, X_test, y_train, y_test = train_test_split(X, y, test_size=0.3, random_state=42)\n",
    "\n",
    "# Initialize and train regression models\n",
    "models = {\n",
    "    'Linear Regression': LinearRegression(),\n",
    "    'Decision Tree Regressor': DecisionTreeRegressor(),\n",
    "    'Random Forest Regressor': RandomForestRegressor()\n",
    "}\n",
    "\n",
    "adjusted_r2_scores = {}\n",
    "\n",
    "for model_name, model in models.items():\n",
    "    model.fit(X_train, y_train)\n",
    "    y_pred = model.predict(X_test)\n",
    "    r2 = r2_score(y_test, y_pred)\n",
    "    \n",
    "    n = len(X_test)\n",
    "    k = X_test.shape[1]\n",
    "    adjusted_r2 = 1 - ((1 - r2) * (n - 1) / (n - k - 1))\n",
    "    adjusted_r2_scores[model_name] = adjusted_r2\n",
    "\n",
    "# Find the algorithm with the least adjusted R-squared\n",
    "worst_algorithm = min(adjusted_r2_scores, key=adjusted_r2_scores.get)\n",
    "worst_adjusted_r2 = adjusted_r2_scores[worst_algorithm]\n",
    "\n",
    "print(f\"The algorithm with the least adjusted R-squared is {worst_algorithm} with an adjusted R-squared of {worst_adjusted_r2:.4f}.\")\n"
   ]
  },
  {
   "cell_type": "code",
   "execution_count": null,
   "id": "cc4e1bd2",
   "metadata": {},
   "outputs": [],
   "source": []
  }
 ],
 "metadata": {
  "kernelspec": {
   "display_name": "Python 3 (ipykernel)",
   "language": "python",
   "name": "python3"
  },
  "language_info": {
   "codemirror_mode": {
    "name": "ipython",
    "version": 3
   },
   "file_extension": ".py",
   "mimetype": "text/x-python",
   "name": "python",
   "nbconvert_exporter": "python",
   "pygments_lexer": "ipython3",
   "version": "3.9.12"
  }
 },
 "nbformat": 4,
 "nbformat_minor": 5
}
